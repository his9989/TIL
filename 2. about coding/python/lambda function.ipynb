{
 "cells": [
  {
   "cell_type": "markdown",
   "metadata": {},
   "source": [
    "## lambda 사용 함수 처리"
   ]
  },
  {
   "cell_type": "code",
   "execution_count": 1,
   "metadata": {
    "collapsed": true
   },
   "outputs": [],
   "source": [
    "import numpy as np\n",
    "f = lambda x: 1.0/(1.0 + np.exp(-x))"
   ]
  },
  {
   "cell_type": "code",
   "execution_count": 2,
   "metadata": {},
   "outputs": [
    {
     "name": "stdout",
     "output_type": "stream",
     "text": [
      "0.9933071490757153\n"
     ]
    }
   ],
   "source": [
    "print(f(5))"
   ]
  },
  {
   "cell_type": "code",
   "execution_count": 3,
   "metadata": {},
   "outputs": [
    {
     "name": "stdout",
     "output_type": "stream",
     "text": [
      "0.7310585786300049\n"
     ]
    }
   ],
   "source": [
    "print(f(1))"
   ]
  },
  {
   "cell_type": "code",
   "execution_count": 48,
   "metadata": {},
   "outputs": [
    {
     "name": "stdout",
     "output_type": "stream",
     "text": [
      "0.9999999999999998\n"
     ]
    }
   ],
   "source": [
    "print(f(36.73680056))"
   ]
  },
  {
   "cell_type": "code",
   "execution_count": 11,
   "metadata": {
    "collapsed": true
   },
   "outputs": [],
   "source": [
    "import numpy as np\n",
    "\n",
    "W = np.random.randn(784, 20)\n",
    "W_ = np.random.randn(20, 784)"
   ]
  },
  {
   "cell_type": "code",
   "execution_count": 3,
   "metadata": {},
   "outputs": [
    {
     "data": {
      "text/plain": [
       "array([[ 1.84504995e+00,  3.33159561e-02,  1.49396348e-01, ...,\n",
       "         1.50999437e+00, -9.55771950e-01,  1.16145913e+00],\n",
       "       [ 2.27637462e-01,  3.92589942e-01,  1.19587924e+00, ...,\n",
       "         6.33304608e-01, -2.11540415e+00, -7.88606969e-01],\n",
       "       [-6.48361470e-01, -1.36012108e-03,  6.61543048e-01, ...,\n",
       "        -9.59503633e-01,  1.57486575e+00, -6.58405556e-02],\n",
       "       ...,\n",
       "       [-1.39140754e+00,  1.55766637e-01,  6.34565025e-02, ...,\n",
       "         8.02068440e-01,  1.75497611e-01, -1.02447165e+00],\n",
       "       [-3.54042038e-01, -3.83372915e-01, -4.20974300e-01, ...,\n",
       "         1.45572100e+00,  1.61447344e+00, -1.56311820e+00],\n",
       "       [-7.54800957e-01, -1.17941591e+00, -4.26419696e-01, ...,\n",
       "        -5.74174748e-01,  9.09021888e-01,  2.08928086e-01]])"
      ]
     },
     "execution_count": 3,
     "metadata": {},
     "output_type": "execute_result"
    }
   ],
   "source": [
    "W"
   ]
  },
  {
   "cell_type": "code",
   "execution_count": 5,
   "metadata": {},
   "outputs": [],
   "source": [
    "X = np.random.rand(784,)"
   ]
  },
  {
   "cell_type": "code",
   "execution_count": 7,
   "metadata": {},
   "outputs": [
    {
     "data": {
      "text/plain": [
       "(784,)"
      ]
     },
     "execution_count": 7,
     "metadata": {},
     "output_type": "execute_result"
    }
   ],
   "source": [
    "X.shape"
   ]
  },
  {
   "cell_type": "code",
   "execution_count": 10,
   "metadata": {},
   "outputs": [
    {
     "name": "stdout",
     "output_type": "stream",
     "text": [
      "(20,)\n",
      "[ 11.08477888   3.00838123  26.16130832  19.15997696 -41.98956366\n",
      "  -1.59704153  10.61231194 -17.13359993   8.69306171  43.07145113\n",
      " -25.63379327 -28.88144677 -30.03400204 -10.23432619  10.37545178\n",
      "  -3.60992872 -19.50258562  15.02429026   2.26075407  11.76850418]\n"
     ]
    }
   ],
   "source": [
    "M = np.dot(X, W)\n",
    "print(M.shape)\n",
    "print(M)"
   ]
  },
  {
   "cell_type": "code",
   "execution_count": 13,
   "metadata": {},
   "outputs": [
    {
     "name": "stdout",
     "output_type": "stream",
     "text": [
      "0.7960662873928174\n",
      "0.4772564059319969\n",
      "0.8010490542201667\n",
      "0.14528169035906258\n",
      "0.7640337392451214\n"
     ]
    }
   ],
   "source": [
    "temp = np.random.rand(5,)\n",
    "for i in range(5):\n",
    "    print(temp[i])"
   ]
  },
  {
   "cell_type": "code",
   "execution_count": null,
   "metadata": {
    "collapsed": true
   },
   "outputs": [],
   "source": []
  }
 ],
 "metadata": {
  "kernelspec": {
   "display_name": "Python 3",
   "language": "python",
   "name": "python3"
  },
  "language_info": {
   "codemirror_mode": {
    "name": "ipython",
    "version": 3
   },
   "file_extension": ".py",
   "mimetype": "text/x-python",
   "name": "python",
   "nbconvert_exporter": "python",
   "pygments_lexer": "ipython3",
   "version": "3.6.1"
  }
 },
 "nbformat": 4,
 "nbformat_minor": 2
}
